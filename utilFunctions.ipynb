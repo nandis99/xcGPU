{
 "cells": [
  {
   "cell_type": "code",
   "execution_count": 2,
   "metadata": {},
   "outputs": [],
   "source": [
    "import numpy as np\n",
    "import matplotlib.pyplot as plt\n",
    "import re\n",
    "angToBohr  = 1.0 / 0.529177210903\n",
    "haToeV    = 27.211386245988\n",
    "haToJoule= 4.3597482e-18\n",
    "calToJoule=4.184\n",
    "bohrToM=5.2917724900001e-11\n",
    "avogadroNumber=6.02214082e23\n",
    "force_conv = 1/(haToeV*angToBohr) # eV/Ang to Ha/Bohr\n",
    "stress_conv =  1/(4.3597482*10**7/5.2917724900001**3)# kbar to Ha/Bohr\n",
    "###################################################################################\n",
    "def xenergy_dftfe(file_path):\n",
    "    with open(file_path) as f :\n",
    "        for line in f:\n",
    "            if \"Exchange energy\" in line:\n",
    "              energy = float(line.strip().split()[-1])  \n",
    "                \n",
    "    return energy\n",
    "\n",
    "def cenergy_dftfe(file_path):\n",
    "    with open(file_path) as f :\n",
    "        for line in f:\n",
    "            if \"Correlation energy\" in line:\n",
    "              energy = float(line.strip().split()[-1])  \n",
    "                \n",
    "    return energy\n",
    "\n",
    "def find_natoms_dftfe(file_path):\n",
    "    with open(file_path) as f:\n",
    "        for line in f:\n",
    "            if \"set NATOMS\" in line:\n",
    "                natoms = int(line.strip().split(\"=\")[-1])\n",
    "                \n",
    "    return natoms"
   ]
  },
  {
   "cell_type": "code",
   "execution_count": 14,
   "metadata": {},
   "outputs": [
    {
     "name": "stdout",
     "output_type": "stream",
     "text": [
      "\n",
      "BaTiO3 ,  LDA-PW\n",
      "exchange energy diff:  1.2221335055073723e-12\n",
      "\n",
      "BaTiO3 ,  GGA-PBE\n",
      "exchange energy diff:  3.183231456205249e-12\n",
      "\n",
      "BaTiO3 ,  MGGA-R2SCAN\n",
      "exchange energy diff:  1.4495071809506044e-12\n",
      "\n",
      "\n",
      "\n",
      "\n",
      "ZrO2_tetragonal ,  LDA-PW\n",
      "exchange energy diff:  1.1688428003253648e-12\n",
      "\n",
      "ZrO2_tetragonal ,  GGA-PBE\n",
      "exchange energy diff:  1.1766587704187259e-11\n",
      "corr energy diff:  3.417266469796232e-13\n",
      "\n",
      "\n"
     ]
    }
   ],
   "source": [
    "for system, name in zip([\"BaTiO3\", \"mg2x_9\", \"ZrO2_tetragonal\"], [\"BaTiO3\", \"Mg2x\", \"ZrO2\"]):\n",
    "    for xc,temp in zip([\"LDA-PW\", \"GGA-PBE\", \"MGGA-R2SCAN\"], [\"pw\", \"pbe\", \"r2scan\"]):\n",
    "        file_1 = \"/home/srinibasn/xcGPU/testDir/gpu_bc182c/{}/{}/{}_scf_useLibxc_false_xc_{}_c6f15.out\".format(system,temp, name, xc)\n",
    "        file_2 = \"/home/srinibasn/xcGPU/testDir/gpu_bc182c/{}/{}/{}_scf_useLibxc_true_xc_{}_pgd.out\".format(system,temp, name, xc)\n",
    "        \n",
    "        ############################################\n",
    "        natoms = find_natoms_dftfe(file_1)\n",
    "        # print(\"natoms: \", natoms)\n",
    "        print()\n",
    "        #############################################\n",
    "        e1 = xenergy_dftfe(file_1)\n",
    "        e2 = xenergy_dftfe(file_2)\n",
    "        if abs(e1-e2)>1e-12:\n",
    "            print(system,\", \" ,xc)\n",
    "            print(\"exchange energy diff: \", abs(e1-e2))\n",
    "            e1 = cenergy_dftfe(file_1)\n",
    "            e2 = cenergy_dftfe(file_2)\n",
    "            if  abs(e1-e2)>1e-13:\n",
    "            # if  True:\n",
    "                print(\"corr energy diff: \", abs(e1-e2))\n",
    "                print()\n",
    "        ##############################################\n",
    "\n",
    "        # e1 = energy_dftfe(file_1)\n",
    "        # e2 = energy_dftfe(file_2)\n",
    "        # if  abs(e1-e2)>1e-12:\n",
    "        #     print(\"total energy diff: \", abs(e1-e2))\n",
    "        #     print(\"################################\")"
   ]
  },
  {
   "cell_type": "code",
   "execution_count": null,
   "metadata": {},
   "outputs": [],
   "source": []
  },
  {
   "cell_type": "code",
   "execution_count": null,
   "metadata": {},
   "outputs": [],
   "source": []
  },
  {
   "cell_type": "code",
   "execution_count": null,
   "metadata": {},
   "outputs": [],
   "source": []
  }
 ],
 "metadata": {
  "kernelspec": {
   "display_name": "nandi",
   "language": "python",
   "name": "python3"
  },
  "language_info": {
   "codemirror_mode": {
    "name": "ipython",
    "version": 3
   },
   "file_extension": ".py",
   "mimetype": "text/x-python",
   "name": "python",
   "nbconvert_exporter": "python",
   "pygments_lexer": "ipython3",
   "version": "3.13.5"
  }
 },
 "nbformat": 4,
 "nbformat_minor": 2
}
